{
 "cells": [
  {
   "cell_type": "code",
   "execution_count": 24,
   "metadata": {
    "slideshow": {
     "slide_type": "-"
    }
   },
   "outputs": [
    {
     "name": "stdout",
     "output_type": "stream",
     "text": [
      "Buiuia (that\"s me)\n",
      "\n",
      "Boulevard Tower\n",
      "\n",
      "Se hoje é o dia das crianças... Ontem eu disse: \n",
      "o dia da criança é o dia da mãe, dos pais, das professoras, \n",
      "mas também é o dia dos animais, sempre que você olha uma criança, \n",
      "há sempre uma figura oculta, que é um cachorro atrás. \n",
      "O que é algo muito importante!\n",
      "\n",
      "\n",
      "Ai você fala o seguinte: \"- Mas vocês acabaram isso?\" \n",
      "Vou te falar: -\"Não, está em andamento!\" Tem obras que \"vai\" durar \n",
      "pra depois de 2010. Agora, por isso, nós já não desenhamos, não começamos a \n",
      "fazer projeto do que nós \"podêmo fazê\"? 11, 12, 13, 14... Por que é que não?\n",
      "\n",
      "\n"
     ]
    }
   ],
   "source": [
    "# Comentarios\n",
    "\n",
    "# inline\n",
    "\n",
    "\"\"\"\n",
    "    Bloco\n",
    "\"\"\"\n",
    "# ----------------------------------\n",
    "\n",
    "'''Bloco inline'''\n",
    "\n",
    "\n",
    "# tipos\n",
    "\n",
    "# uma string com escapamento\n",
    "name = \"Buiuia (that\\\"s me)\"\n",
    "print(name)\n",
    "print()\n",
    "\n",
    "home = 'Boulevard Tower'\n",
    "print(home)\n",
    "print()\n",
    "\n",
    "# string de multiplas linhas\n",
    "description = '''Se hoje é o dia das crianças... Ontem eu disse: \n",
    "o dia da criança é o dia da mãe, dos pais, das professoras, \n",
    "mas também é o dia dos animais, sempre que você olha uma criança, \n",
    "há sempre uma figura oculta, que é um cachorro atrás. \n",
    "O que é algo muito importante!\n",
    "'''\n",
    "print(description)\n",
    "print()\n",
    "\n",
    "# outra forma de string multipla\n",
    "\n",
    "description = \"\"\"Ai você fala o seguinte: \"- Mas vocês acabaram isso?\" \n",
    "Vou te falar: -\"Não, está em andamento!\" Tem obras que \"vai\" durar \n",
    "pra depois de 2010. Agora, por isso, nós já não desenhamos, não começamos a \n",
    "fazer projeto do que nós \"podêmo fazê\"? 11, 12, 13, 14... Por que é que não?\n",
    "\"\"\"\n",
    "print(description)\n",
    "print()"
   ]
  },
  {
   "cell_type": "code",
   "execution_count": null,
   "metadata": {},
   "outputs": [],
   "source": []
  },
  {
   "cell_type": "code",
   "execution_count": 4,
   "metadata": {},
   "outputs": [
    {
     "name": "stdout",
     "output_type": "stream",
     "text": [
      "2010 2010\n",
      "3.14159265 3.14159265\n",
      "0.02\n"
     ]
    }
   ],
   "source": [
    "# números inteiros\n",
    "year1 = 2010\n",
    "year2 = int(\"2010\")\n",
    "\n",
    "print(year1, year2)\n",
    "\n",
    "\n",
    "# Floating Point Numbers\n",
    "pi1 = 3.14159265\n",
    "pi2 = float(\"3.14159265\")\n",
    "\n",
    "print(pi1, pi2)\n",
    "\n",
    "\n",
    "# Fixed Point Numbers\n",
    "\n",
    "from decimal import Decimal\n",
    "price = Decimal(\"0.02\")\n",
    "\n",
    "print(price)\n"
   ]
  },
  {
   "cell_type": "code",
   "execution_count": 6,
   "metadata": {},
   "outputs": [
    {
     "name": "stdout",
     "output_type": "stream",
     "text": [
      "None\n"
     ]
    }
   ],
   "source": [
    "# Null\n",
    "\n",
    "optional_data = None\n",
    "\n",
    "print(optional_data)"
   ]
  },
  {
   "cell_type": "code",
   "execution_count": 18,
   "metadata": {},
   "outputs": [
    {
     "name": "stdout",
     "output_type": "stream",
     "text": [
      "[42]\n",
      "[42, 'Python', True]\n",
      "[42, 'Python', True]\n",
      "5\n",
      "1\n",
      "[1, 2]\n",
      "[3, 4, 5]\n"
     ]
    }
   ],
   "source": [
    "# listas podem ser heterogêneas\n",
    "favorites = []\n",
    "\n",
    "# addições\n",
    "favorites.append(42)\n",
    "print(favorites)\n",
    "\n",
    "# extensão\n",
    "favorites.extend([\"Python\", True])\n",
    "print(favorites)\n",
    "\n",
    "# equivalente\n",
    "\n",
    "favorites = [42, \"Python\", True]\n",
    "print(favorites)\n",
    "\n",
    "# ---------------------------------------\n",
    "# slicers\n",
    "\n",
    "numbers = [1, 2, 3, 4, 5]\n",
    "\n",
    "print(len(numbers))\n",
    "\n",
    "print(numbers[0])\n",
    "\n",
    "print(numbers[0: 2])\n",
    "\n",
    "print(numbers[2:])\n"
   ]
  },
  {
   "cell_type": "code",
   "execution_count": 31,
   "metadata": {},
   "outputs": [
    {
     "name": "stdout",
     "output_type": "stream",
     "text": [
      "{'name': 'Buiuia'}\n",
      "{'favorites': [42, 'games'], 'name': 'Buiuia', 'gender': 'Male'}\n",
      "{42: 'favorite number', 'favorites': [42, 'games'], 'name': 'Buiuia', (44.47, -73.21): 'coordinates', 'gender': 'Male'}\n",
      "Buiuia\n",
      "None\n",
      "+\n",
      "Buiuia\n",
      "dict_keys([42, 'favorites', 'name', (44.47, -73.21), 'gender'])\n",
      "dict_values(['favorite number', [42, 'games'], 'Buiuia', 'coordinates', 'Male'])\n",
      "dict_items([(42, 'favorite number'), ('favorites', [42, 'games']), ('name', 'Buiuia'), ((44.47, -73.21), 'coordinates'), ('gender', 'Male')])\n"
     ]
    }
   ],
   "source": [
    "# Dicionários\n",
    "\n",
    "person = {}\n",
    "\n",
    "# Set by key / Get by key\n",
    "person['name'] = 'Buiuia'\n",
    "print(person)\n",
    "\n",
    "# update\n",
    "person.update({\n",
    "    'favorites': [42, 'games'],\n",
    "    'gender': 'Male'\n",
    "})\n",
    "print(person)\n",
    "\n",
    "# Qualquer objeto imutável pode ser a chave de um dicionário\n",
    "person[42] = 'favorite number'\n",
    "person[(44.47, -73.21)] = 'coordinates'\n",
    "print(person)\n",
    "\n",
    "\n",
    "\n",
    "# Metodos built in\n",
    "print(person.get('name'))\n",
    "print(person.get('last_name'))\n",
    "print(person.get('last_name', '+'))\n",
    "\n",
    "print(person['name'])\n",
    "\n",
    "\n",
    "print(person.keys())\n",
    "\n",
    "print(person.values())\n",
    "\n",
    "print(person.items())\n"
   ]
  },
  {
   "cell_type": "code",
   "execution_count": 35,
   "metadata": {},
   "outputs": [
    {
     "name": "stdout",
     "output_type": "stream",
     "text": [
      "True\n",
      "True\n",
      "True\n",
      "False\n"
     ]
    }
   ],
   "source": [
    "# Boolean\n",
    "\n",
    "is_python = True\n",
    "print(is_python)\n",
    "\n",
    "# Tudo no python pode ser convertido em um booleano\n",
    "is_python = bool(\"any object\")\n",
    "print(is_python)\n",
    "\n",
    "# Tudo abaixo é equivalente a True\n",
    "\n",
    "these_are_true = bool(True and 1 and \"Text\" and {'a': 'b'} and ['c', 'd'])\n",
    "print(these_are_true)\n",
    "\n",
    "# Tudo abaixo é equivalente a False\n",
    "these_are_false = bool(False or 0 or \"\" or {} or [] or None)\n",
    "print(these_are_false)\n",
    "\n"
   ]
  }
 ],
 "metadata": {
  "kernelspec": {
   "display_name": "Python 3",
   "language": "python",
   "name": "python3"
  },
  "language_info": {
   "codemirror_mode": {
    "name": "ipython",
    "version": 3
   },
   "file_extension": ".py",
   "mimetype": "text/x-python",
   "name": "python",
   "nbconvert_exporter": "python",
   "pygments_lexer": "ipython3",
   "version": "3.5.2"
  }
 },
 "nbformat": 4,
 "nbformat_minor": 2
}
