{
 "cells": [
  {
   "cell_type": "code",
   "execution_count": null,
   "metadata": {
    "slideshow": {
     "slide_type": "-"
    }
   },
   "outputs": [],
   "source": [
    "# Comentarios\n",
    "\n",
    "\n",
    "\n",
    "# inline\n",
    "\n",
    "\"\"\"\n",
    "    Bloco\n",
    "\"\"\"\n",
    "# ----------------------------------\n",
    "\n",
    "'''Bloco inline'''\n",
    "\n",
    "\n",
    "# tipos\n",
    "\n",
    "# uma string com escapamento\n",
    "name = \"Buiuia (that\\\"s me)\"\n",
    "print(name)\n",
    "name = 'Buiuia (that\\'s me)'\n",
    "print(name)\n",
    "print()\n",
    "\n",
    "home = 'Boulevard Tower'\n",
    "print(home)\n",
    "print()\n",
    "\n",
    "# string de multiplas linhas\n",
    "description = '''Se hoje é o dia das crianças... Ontem eu disse: \n",
    "o dia da criança é o dia da mãe, dos pais, das professoras, \n",
    "mas também é o dia dos animais, sempre que você olha uma criança, \n",
    "há sempre uma figura oculta, que é um cachorro atrás. \n",
    "O que é algo muito importante!\n",
    "'''\n",
    "print(description)\n",
    "print()\n",
    "\n",
    "# outra forma de string multipla\n",
    "\n",
    "description = \"\"\"Ai você fala o seguinte: \"- Mas vocês acabaram isso?\"\n",
    "Vou te falar: -\"Não, está em andamento!\" Tem obras que \"vai\" durar\n",
    "pra depois de 2010. Agora, por isso, nós já não desenhamos, não começamos a \n",
    "fazer projeto do que nós \"podêmo fazê\"? 11, 12, 13, 14... Por que é que não?\n",
    "\"\"\"\n",
    "print(description)\n",
    "print()"
   ]
  },
  {
   "cell_type": "code",
   "execution_count": null,
   "metadata": {},
   "outputs": [],
   "source": [
    "# números\n",
    "\n",
    "year1 = 2010\n",
    "year2 = int(\"2010\")\n",
    "\n",
    "print(year1, year2)\n",
    "\n",
    "\n",
    "# Floating Point Numbers\n",
    "pi1 = 3.14159265\n",
    "pi2 = float(\"3.14159265\")\n",
    "\n",
    "print(pi1, pi2)\n",
    "\n",
    "\n",
    "# Fixed Point Numbers\n",
    "\n",
    "from decimal import Decimal\n",
    "price = Decimal(\"0.02\")\n",
    "\n",
    "print(price)\n"
   ]
  },
  {
   "cell_type": "code",
   "execution_count": 1,
   "metadata": {},
   "outputs": [
    {
     "name": "stdout",
     "output_type": "stream",
     "text": [
      "None\n"
     ]
    }
   ],
   "source": [
    "# Null\n",
    "\n",
    "optional_data = None\n",
    "\n",
    "print(optional_data)"
   ]
  },
  {
   "cell_type": "code",
   "execution_count": 12,
   "metadata": {},
   "outputs": [
    {
     "ename": "TypeError",
     "evalue": "unsupported operand type(s) for +: 'int' and 'str'",
     "output_type": "error",
     "traceback": [
      "\u001b[0;31m---------------------------------------------------------------------------\u001b[0m",
      "\u001b[0;31mTypeError\u001b[0m                                 Traceback (most recent call last)",
      "\u001b[0;32m<ipython-input-12-9afe47cd8db8>\u001b[0m in \u001b[0;36m<module>\u001b[0;34m()\u001b[0m\n\u001b[1;32m      5\u001b[0m \u001b[0;32massert\u001b[0m \u001b[0msoma\u001b[0m\u001b[0;34m(\u001b[0m\u001b[0;36m1\u001b[0m\u001b[0;34m,\u001b[0m \u001b[0;36m3\u001b[0m\u001b[0;34m)\u001b[0m \u001b[0;34m==\u001b[0m \u001b[0;36m4\u001b[0m\u001b[0;34m\u001b[0m\u001b[0m\n\u001b[1;32m      6\u001b[0m \u001b[0;32massert\u001b[0m \u001b[0msoma\u001b[0m\u001b[0;34m(\u001b[0m\u001b[0;36m1\u001b[0m\u001b[0;34m,\u001b[0m \u001b[0;36m4\u001b[0m\u001b[0;34m)\u001b[0m \u001b[0;34m==\u001b[0m \u001b[0;36m5\u001b[0m\u001b[0;34m\u001b[0m\u001b[0m\n\u001b[0;32m----> 7\u001b[0;31m \u001b[0;32massert\u001b[0m \u001b[0msoma\u001b[0m\u001b[0;34m(\u001b[0m\u001b[0;36m1\u001b[0m\u001b[0;34m,\u001b[0m \u001b[0;34m'a'\u001b[0m\u001b[0;34m)\u001b[0m \u001b[0;34m==\u001b[0m \u001b[0;36m1\u001b[0m\u001b[0;34m\u001b[0m\u001b[0m\n\u001b[0m",
      "\u001b[0;32m<ipython-input-12-9afe47cd8db8>\u001b[0m in \u001b[0;36msoma\u001b[0;34m(a, b)\u001b[0m\n\u001b[1;32m      1\u001b[0m \u001b[0;32mdef\u001b[0m \u001b[0msoma\u001b[0m\u001b[0;34m(\u001b[0m\u001b[0ma\u001b[0m\u001b[0;34m,\u001b[0m \u001b[0mb\u001b[0m\u001b[0;34m)\u001b[0m\u001b[0;34m:\u001b[0m\u001b[0;34m\u001b[0m\u001b[0m\n\u001b[0;32m----> 2\u001b[0;31m     \u001b[0;32mreturn\u001b[0m \u001b[0ma\u001b[0m \u001b[0;34m+\u001b[0m \u001b[0mb\u001b[0m\u001b[0;34m\u001b[0m\u001b[0m\n\u001b[0m\u001b[1;32m      3\u001b[0m \u001b[0;34m\u001b[0m\u001b[0m\n\u001b[1;32m      4\u001b[0m \u001b[0;34m\u001b[0m\u001b[0m\n\u001b[1;32m      5\u001b[0m \u001b[0;32massert\u001b[0m \u001b[0msoma\u001b[0m\u001b[0;34m(\u001b[0m\u001b[0;36m1\u001b[0m\u001b[0;34m,\u001b[0m \u001b[0;36m3\u001b[0m\u001b[0;34m)\u001b[0m \u001b[0;34m==\u001b[0m \u001b[0;36m4\u001b[0m\u001b[0;34m\u001b[0m\u001b[0m\n",
      "\u001b[0;31mTypeError\u001b[0m: unsupported operand type(s) for +: 'int' and 'str'"
     ]
    }
   ],
   "source": [
    "def soma(a, b):\n",
    "    return a + b\n",
    "\n",
    "\n",
    "assert soma(1, 3) == 4\n",
    "assert soma(1, 4) == 5\n",
    "assert soma(1, 'a') == 1"
   ]
  },
  {
   "cell_type": "code",
   "execution_count": null,
   "metadata": {},
   "outputs": [],
   "source": [
    "# listas podem ser heterogêneas\n",
    "favorites = []\n",
    "favorites = list()\n",
    "\n",
    "# addições\n",
    "favorites.append(42)\n",
    "print(favorites)\n",
    "\n",
    "# extensão\n",
    "favorites.extend([\"Python\", True])\n",
    "print(favorites)\n",
    "\n",
    "# equivalente\n",
    "\n",
    "favorites = [42, \"Python\", True]\n",
    "print(favorites)\n",
    "\n",
    "# ---------------------------------------\n",
    "# slicers\n",
    "\n",
    "numbers = [1, 2, 3, 4, 5]\n",
    "\n",
    "print(len(numbers))\n",
    "\n",
    "print(numbers[0])\n",
    "\n",
    "print(numbers[0: 2])\n",
    "\n",
    "print(numbers[2:])\n",
    "\n",
    "\n",
    "s = slice(2, 10, 2)\n",
    "print(numbers[s])"
   ]
  },
  {
   "cell_type": "code",
   "execution_count": 20,
   "metadata": {},
   "outputs": [
    {
     "name": "stdout",
     "output_type": "stream",
     "text": [
      "gender-Male\n",
      "42-favorite number\n",
      "name-Buiuia\n",
      "favorites-[42, 'games']\n",
      "(44.47, -73.21)-coordinates\n"
     ]
    }
   ],
   "source": [
    "# Dicionários\n",
    "\n",
    "person = {}\n",
    "person = dict()\n",
    "\n",
    "# Set by key / Get by key\n",
    "person['name'] = 'Buiuia'\n",
    "# print(person)\n",
    "\n",
    "# update\n",
    "person.update({\n",
    "    'favorites': [42, 'games'],\n",
    "    'gender': 'Male'\n",
    "})\n",
    "\n",
    "\n",
    "# print(person)\n",
    "\n",
    "# Qualquer objeto imutável pode ser a chave de um dicionário\n",
    "person[42] = 'favorite number'\n",
    "person[(44.47, -73.21)] = 'coordinates'\n",
    "# print(person)\n",
    "\n",
    "\n",
    "\n",
    "# Metodos built in\n",
    "# print(person.get('name'))\n",
    "# print(person.get('last_name'))\n",
    "# print(person.get('last_name', '+'))\n",
    "\n",
    "# print(person['name'])\n",
    "\n",
    "\n",
    "# print(person.keys())\n",
    "\n",
    "# print(person.values())\n",
    "\n",
    "# print(person.items())\n",
    "\n",
    "\n",
    "for chave, valor in person.items():\n",
    "    print(\"{}-{}\".format(chave, valor))\n",
    "\n"
   ]
  },
  {
   "cell_type": "code",
   "execution_count": null,
   "metadata": {},
   "outputs": [],
   "source": [
    "# Boolean\n",
    "\n",
    "is_python = True\n",
    "print(is_python)\n",
    "\n",
    "# Tudo no python pode ser convertido em um booleano\n",
    "is_python = bool(\"any object\")\n",
    "print(is_python)\n",
    "\n",
    "# Tudo abaixo é equivalente a True\n",
    "\n",
    "these_are_true = bool(True and 1 and \"Text\" and {'a': 'b'} and ['c', 'd'])\n",
    "print(these_are_true)\n",
    "\n",
    "# Tudo abaixo é equivalente a False\n",
    "these_are_false = bool(False or 0 or \"\" or {} or [] or None)\n",
    "print(these_are_false)\n",
    "\n"
   ]
  },
  {
   "cell_type": "code",
   "execution_count": null,
   "metadata": {},
   "outputs": [],
   "source": [
    "# Aritmetica\n",
    "\n",
    "a = 10            # 10\n",
    "a += 1            # 11\n",
    "a -= 1            # 10\n",
    " \n",
    "b = a + 1         # 11\n",
    "c = a - 1         # 9\n",
    "\n",
    "d = a * 2         # 20\n",
    "e = a / 2         # 5\n",
    "f = a % 3         # 1\n",
    "g = a ** 2        # 100\n",
    "\n"
   ]
  },
  {
   "cell_type": "code",
   "execution_count": null,
   "metadata": {},
   "outputs": [],
   "source": [
    "# Manipulação de Strings\n",
    "\n",
    "animals = \"Cats \" + \"Dogs \"\n",
    "animals += 'Rabbits'\n",
    "\n",
    "print(animals)\n",
    "\n",
    "fruit = ', '.join(['apple', 'Banana', 'Orange'])\n",
    "print(fruit)\n",
    "\n",
    "date = '{} {} {}'.format('Sept', 11, 2010)\n",
    "print(date)\n",
    "\n",
    "name = '{first} {last}'.format(first='Joe', last='Due')\n",
    "print(name)\n"
   ]
  },
  {
   "cell_type": "code",
   "execution_count": null,
   "metadata": {},
   "outputs": [],
   "source": [
    "# Comparação lógica\n",
    "a = True\n",
    "b = False\n",
    "c = None\n",
    "\n",
    "print(a and b)\n",
    "print(a or b)\n",
    "print(not a)\n",
    "print(a and not (b or c))\n"
   ]
  },
  {
   "cell_type": "code",
   "execution_count": null,
   "metadata": {},
   "outputs": [],
   "source": [
    "# Comparações\n",
    "\n",
    "print((1 is 1) == True)\n",
    "print((1 is not '1') == True)\n",
    "\n",
    "print((bool(1)) == True)\n",
    "print((bool(True)) == True)\n",
    "\n",
    "print((1 and True) == True)\n",
    "print((1 is True) == False)\n"
   ]
  },
  {
   "cell_type": "code",
   "execution_count": null,
   "metadata": {},
   "outputs": [],
   "source": [
    "# Comparação Aritmetica\n",
    "a = 10\n",
    "b = 11\n",
    "\n",
    "print(a > b)\n",
    "print(a >= b)\n",
    "print(a < b)\n",
    "print(a <= b)\n",
    "print(a == b)\n",
    "print(a != b)\n"
   ]
  },
  {
   "cell_type": "code",
   "execution_count": null,
   "metadata": {},
   "outputs": [],
   "source": [
    "# Condições\n",
    "\n",
    "grade = 50\n",
    "\n",
    "if grade >= 90:\n",
    "    if grade == 100:\n",
    "        print('A+')\n",
    "    else:\n",
    "        print('A')\n",
    "elif grade >= 80:\n",
    "    print(\"B\")\n",
    "elif grade >= 70:\n",
    "    print(\"C\")\n",
    "else:\n",
    "    print(\"F\")"
   ]
  },
  {
   "cell_type": "code",
   "execution_count": null,
   "metadata": {},
   "outputs": [],
   "source": [
    "# For Loop\n",
    "# 70 000\n",
    "\n",
    "\n",
    "for x in range(10, 0, -1): # 0-9\n",
    "    print(x)\n",
    "\n",
    "fruits = ['Apple', 'Orange']\n",
    "for fruit in fruits:\n",
    "    print(fruit)\n",
    "    "
   ]
  },
  {
   "cell_type": "code",
   "execution_count": null,
   "metadata": {},
   "outputs": [],
   "source": [
    "# fazer "
   ]
  },
  {
   "cell_type": "code",
   "execution_count": 21,
   "metadata": {},
   "outputs": [
    {
     "name": "stdout",
     "output_type": "stream",
     "text": [
      "MG: Minas Gerais\n",
      "BA: Bahia\n"
     ]
    }
   ],
   "source": [
    "# For loop expandido\n",
    "states = {\n",
    "    'MG': 'Minas Gerais',\n",
    "    'BA': 'Bahia'\n",
    "}\n",
    "\n",
    "for key, value in states.items():\n",
    "    print('{}: {}'.format(key, value))"
   ]
  },
  {
   "cell_type": "code",
   "execution_count": 31,
   "metadata": {},
   "outputs": [
    {
     "name": "stdout",
     "output_type": "stream",
     "text": [
      "idx 0\n",
      "passei 1\n"
     ]
    }
   ],
   "source": [
    "# while loop\n",
    "\n",
    "x = 0\n",
    "# while x < 10:\n",
    "#     print(x)\n",
    "#     x += 1\n",
    "    \n",
    "    \n",
    "for x in range(0, 100):\n",
    "    if x % 3 == 1:\n",
    "        print(\"passei {}\".format(x))\n",
    "        break\n",
    "    print(\"idx {}\".format(x))"
   ]
  },
  {
   "cell_type": "code",
   "execution_count": null,
   "metadata": {},
   "outputs": [],
   "source": [
    "# List Comprehensions\n",
    "odds = []\n",
    "for x in range(50):\n",
    "    if x % 2:\n",
    "        odds.append(x)\n",
    "print(odds)\n",
    "\n",
    "odds = [ x for x in range(50) if x % 2]\n",
    "print(odds)"
   ]
  },
  {
   "cell_type": "code",
   "execution_count": null,
   "metadata": {},
   "outputs": [],
   "source": [
    "# Funções básicas\n",
    "\n",
    "def my_function():\n",
    "    \"\"\"Function Documentation\"\"\"\n",
    "    print('Hello World')\n",
    "    \n",
    "my_function()\n",
    "\n",
    "help(my_function)"
   ]
  },
  {
   "cell_type": "code",
   "execution_count": null,
   "metadata": {},
   "outputs": [],
   "source": [
    "# Argumentos de função\n",
    "import pdb\n",
    "# Positional\n",
    "def add(x, y):\n",
    "    return x + y\n",
    "\n",
    "# Keyword\n",
    "def shout(phrase='Yipee!!'):\n",
    "    pdb.set_trace()\n",
    "    print(phrase)\n",
    "\n",
    "# Positional + Keyword\n",
    "def echo(text, prefix=''):\n",
    "    print('{} {}'.format(prefix, text))\n"
   ]
  },
  {
   "cell_type": "code",
   "execution_count": null,
   "metadata": {},
   "outputs": [],
   "source": [
    "print(add(2, 2))\n",
    "shout()\n",
    "echo('World')\n",
    "echo('hello', 'World')"
   ]
  },
  {
   "cell_type": "code",
   "execution_count": null,
   "metadata": {},
   "outputs": [],
   "source": [
    "# Argumentos arbitrários\n",
    "\n",
    "def some_method(*args, **kwargs):\n",
    "    for arg in args:\n",
    "        print(arg)\n",
    "    for key, value in kwargs.items():\n",
    "        print('{}: {}'.format(key, value))\n",
    "\n",
    "some_method(1, 2, 3, name='Joe Due')\n",
    "        "
   ]
  },
  {
   "cell_type": "code",
   "execution_count": 42,
   "metadata": {},
   "outputs": [
    {
     "name": "stdout",
     "output_type": "stream",
     "text": [
      "__main__.User\n",
      "<__main__.User instance at 0x10e6f1f38>\n"
     ]
    }
   ],
   "source": [
    "# Classes\n",
    "\n",
    "class User:\n",
    "    pass\n",
    "\n",
    "print(User)\n",
    "print(User())"
   ]
  },
  {
   "cell_type": "code",
   "execution_count": 46,
   "metadata": {},
   "outputs": [
    {
     "name": "stdout",
     "output_type": "stream",
     "text": [
      "None\n",
      "Joe Due\n"
     ]
    }
   ],
   "source": [
    "# Atributos de classes\n",
    "# Espera-se que os atributos de uma classe seja sempre imutáveis\n",
    "\n",
    "class User:\n",
    "    name = None\n",
    "    is_staff = False\n",
    "\n",
    "\n",
    "print(User.name)\n",
    "\n",
    "User.name = 'Joe Due'\n",
    "\n",
    "print(User.name)"
   ]
  },
  {
   "cell_type": "code",
   "execution_count": 81,
   "metadata": {},
   "outputs": [
    {
     "name": "stdout",
     "output_type": "stream",
     "text": [
      "Rafael\n",
      "None\n",
      "False\n",
      "20\n",
      "10\n"
     ]
    }
   ],
   "source": [
    "# Métodos da classe\n",
    "\n",
    "class User:\n",
    "    is_staff = False\n",
    "    \n",
    "    \n",
    "    \n",
    "    def __init__(self, name):\n",
    "        self.name = name\n",
    "        self.idade = 10\n",
    "        self.bolinha = None\n",
    "        self.cidade = None\n",
    "    \n",
    "    def __repr__(self):\n",
    "        return \"\"\"<O nome e {} e a idade e {}>\"\"\".format(self.name, self.idade)\n",
    "    \n",
    "    def enable_authorize(self):\n",
    "        self.bolinha = 20\n",
    "    \n",
    "    def is_authorized(self):\n",
    "        self.enable_authorize()\n",
    "        return self.is_staff\n",
    "\n",
    "anonymous = User(\"Rafael\")\n",
    "print(anonymous.name)\n",
    "print(anonymous.bolinha)\n",
    "print(anonymous.is_authorized())\n",
    "print(anonymous.bolinha)\n",
    "print(anonymous.idade)"
   ]
  },
  {
   "cell_type": "code",
   "execution_count": 87,
   "metadata": {},
   "outputs": [
    {
     "name": "stdout",
     "output_type": "stream",
     "text": [
      "<Nome joe barulho mia cor preto>\n"
     ]
    }
   ],
   "source": [
    "class animal:\n",
    "    def __init__(self, nome, barulho):\n",
    "        self.nome = nome\n",
    "        self.barulho = barulho\n",
    "\n",
    "class gato(animal):\n",
    "    \n",
    "    def __init__(self, nome, barulho, cor):\n",
    "        self.nome = nome\n",
    "        self.barulho = barulho\n",
    "        self.cor = cor\n",
    "    \n",
    "    def __repr__(self):\n",
    "        return \"\"\"<Nome {} barulho {} cor {}>\"\"\".format(self.nome, self.barulho, self.cor)\n",
    "\n",
    "a = gato(\"joe\", \"mia\", \"preto\")\n",
    "print(a)\n",
    "        "
   ]
  },
  {
   "cell_type": "code",
   "execution_count": 97,
   "metadata": {},
   "outputs": [
    {
     "name": "stdout",
     "output_type": "stream",
     "text": [
      "1\n",
      "2\n"
     ]
    },
    {
     "data": {
      "text/plain": [
       "<__main__.Third at 0x10e6ec910>"
      ]
     },
     "execution_count": 97,
     "metadata": {},
     "output_type": "execute_result"
    }
   ],
   "source": [
    "class First(object):\n",
    "    def __init__(self):\n",
    "        print '1'\n",
    "\n",
    "class Second(object):\n",
    "    def __init__(self):\n",
    "        print '2'\n",
    "\n",
    "class Third(First, Second):\n",
    "    def __init__(self):\n",
    "        First.__init__(self)\n",
    "        Second.__init__(self)\n",
    "\n",
    "Third()"
   ]
  },
  {
   "cell_type": "code",
   "execution_count": 80,
   "metadata": {},
   "outputs": [
    {
     "name": "stdout",
     "output_type": "stream",
     "text": [
      "<O nome e Joe Due e a idade e 10>\n",
      "Joe Due\n",
      "True\n",
      "30\n"
     ]
    }
   ],
   "source": [
    "# Herença\n",
    "\n",
    "class SuperUser(User):\n",
    "    is_staff = True\n",
    "    \n",
    "    def enable_authorize(self):\n",
    "        self.bolinha = 30\n",
    "    \n",
    "joe = SuperUser('Joe Due')\n",
    "print(joe)\n",
    "print(joe.name)\n",
    "print(joe.is_authorized())\n",
    "print(joe.bolinha)"
   ]
  },
  {
   "cell_type": "code",
   "execution_count": null,
   "metadata": {},
   "outputs": [],
   "source": [
    "# Python Way\n",
    "from IPython.core.display import display, HTML\n",
    "rules = ['No interfaces', 'No real private attributes/functions', 'Private attributes start (but do not end) with double underscores.', 'Special class methods start and end with double underscores.', '__init__, __doc__, __str__']\n",
    "li_rules= ''.join(['<li style=\"font-size: 20px\">{}</li>'.format(r) for r in rules])\n",
    "display(HTML('<h1>Python Way</h1><ul>{}</ul>'.format(li_rules)))\n"
   ]
  },
  {
   "cell_type": "code",
   "execution_count": null,
   "metadata": {},
   "outputs": [],
   "source": [
    "# advanced\n",
    "\n",
    "# get dictionary all keys\n",
    "a = {\"1\":1, \"2\":2, \"3\":3}\n",
    "b = {\"2\":2, \"3\":3, \"4\":4}\n",
    "print(a.keys())\n",
    "# get dictionary key and value as tuple\n",
    "print(a.items())\n",
    "\n",
    "# find same key between two dictionary\n",
    "print([_ for _ in a.keys() if _ in b.keys()])\n",
    "\n",
    "\n",
    "# better way\n",
    "c = set(a).intersection(set(b))\n",
    "print(list(c))\n",
    "# or\n",
    "print([_ for _ in a if _ in b])\n"
   ]
  },
  {
   "cell_type": "code",
   "execution_count": null,
   "metadata": {},
   "outputs": [],
   "source": [
    "# decorators\n",
    "# see: PEP318\n",
    "from functools import wraps\n",
    "def decorator(func):\n",
    "    @wraps(func)\n",
    "    def wrapper(*args, **kwargs):\n",
    "        print(\"Before calling {}.\".format(func.__name__))\n",
    "        ret = func(*args, **kwargs)\n",
    "        print(\"After calling {}.\".format(func.__name__))\n",
    "        return ret\n",
    "    return wrapper\n",
    "\n",
    "@decorator\n",
    "def example():\n",
    "    print(\"Inside example function.\")\n",
    "\n",
    "example()\n"
   ]
  },
  {
   "cell_type": "code",
   "execution_count": null,
   "metadata": {},
   "outputs": [],
   "source": [
    "# without @wraps\n",
    "def decorator(func):\n",
    "    def wrapper(*args, **kwargs):\n",
    "        print('wrap function')\n",
    "        return func(*args, **kwargs)\n",
    "    return wrapper\n",
    "\n",
    "@decorator\n",
    "def example(*a, **kw):\n",
    "    pass\n",
    "\n",
    "print(example.__name__) # attr of function lose\n",
    "\n",
    "# with @wraps\n",
    "from functools import wraps\n",
    "def decorator(func):\n",
    "    @wraps(func)\n",
    "    def wrapper(*args, **kwargs):\n",
    "        print('wrap function')\n",
    "        return func(*args, **kwargs)\n",
    "    return wrapper\n",
    "\n",
    "@decorator\n",
    "def example(*a, **kw):\n",
    "    pass\n",
    "\n",
    "print(example.__name__) # attr of function preserve\n"
   ]
  },
  {
   "cell_type": "code",
   "execution_count": null,
   "metadata": {},
   "outputs": [],
   "source": [
    "# Decorator with arguments\n",
    "from functools import wraps\n",
    "def decorator_with_argument(val):\n",
    "    def decorator(func):\n",
    "        @wraps(func)\n",
    "        def wrapper(*args, **kwargs):\n",
    "            print(\"Val is {0}\".format(val))\n",
    "            return func(*args, **kwargs)\n",
    "        return wrapper\n",
    "    return decorator\n",
    "\n",
    "@decorator_with_argument(10)\n",
    "def example():\n",
    "    print(\"This is example function.\")\n",
    "\n",
    "example()\n",
    "\n",
    "# equivalent to\n",
    "def example():\n",
    "    print(\"This is example function.\")\n",
    "\n",
    "example = decorator_with_argument(10)(example)\n",
    "example()\n"
   ]
  },
  {
   "cell_type": "code",
   "execution_count": null,
   "metadata": {},
   "outputs": [],
   "source": [
    "# Using __slots__ to save memory Only python3\n",
    "\n",
    "import resource\n",
    "import platform\n",
    "import functools\n",
    "\n",
    "\n",
    "def human_readable(size,precision=2):\n",
    "    suffixes=['B','KB','MB','GB','TB']\n",
    "    suffixIndex = 0\n",
    "    while size > 1024 and suffixIndex < 4:\n",
    "        suffixIndex += 1 #increment the index of the suffix\n",
    "        size = size/1024.0 #apply the division\n",
    "    return \"%.*f%s\"%(precision,size,suffixes[suffixIndex])\n",
    "\n",
    "def profile_mem(func):\n",
    "    @functools.wraps(func)\n",
    "    def wrapper(*a, **k):\n",
    "        s = human_readable(resource.getrusage(resource.RUSAGE_SELF).ru_maxrss)\n",
    "        ret = func(*a, **k)\n",
    "        e = human_readable(resource.getrusage(resource.RUSAGE_SELF).ru_maxrss)\n",
    "\n",
    "        uname = platform.system()\n",
    "\n",
    "        if uname == \"Linux\":\n",
    "            print(\"mem usage: {} - {} kByte\".format(e, s))\n",
    "        elif uname == \"Darwin\":\n",
    "            print(\"mem usage: {} - {} Byte\".format(e, s))\n",
    "        else:\n",
    "            raise Exception(\"not support\")\n",
    "\n",
    "        return ret\n",
    "\n",
    "    return wrapper\n",
    "\n",
    "\n",
    "class S(object):\n",
    "    __slots__ = ['attr1', 'attr2', 'attr3']\n",
    "\n",
    "    def __init__(self):\n",
    "        self.attr1 = \"Foo\"\n",
    "        self.attr2 = \"Bar\"\n",
    "        self.attr3 = \"Baz\"\n",
    "\n",
    "\n",
    "class D(object):\n",
    "\n",
    "    def __init__(self):\n",
    "        self.attr1 = \"Foo\"\n",
    "        self.attr2 = \"Bar\"\n",
    "        self.attr3 = \"Baz\"\n",
    "\n",
    "\n",
    "@profile_mem\n",
    "def alloc(cls):\n",
    "    _ = [cls() for _ in range(100000000)]\n",
    "\n",
    "\n",
    "alloc(S)\n",
    "alloc(D)\n"
   ]
  }
 ],
 "metadata": {
  "kernelspec": {
   "display_name": "Python 2",
   "language": "python",
   "name": "python2"
  },
  "language_info": {
   "codemirror_mode": {
    "name": "ipython",
    "version": 2
   },
   "file_extension": ".py",
   "mimetype": "text/x-python",
   "name": "python",
   "nbconvert_exporter": "python",
   "pygments_lexer": "ipython2",
   "version": "2.7.10"
  }
 },
 "nbformat": 4,
 "nbformat_minor": 2
}
