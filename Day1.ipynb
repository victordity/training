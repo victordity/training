{
 "cells": [
  {
   "cell_type": "code",
   "execution_count": 127,
   "metadata": {
    "slideshow": {
     "slide_type": "-"
    }
   },
   "outputs": [
    {
     "name": "stdout",
     "output_type": "stream",
     "text": [
      "Buiuia (that\"s me)\n",
      "\n",
      "Boulevard Tower\n",
      "\n",
      "Se hoje é o dia das crianças... Ontem eu disse: \n",
      "o dia da criança é o dia da mãe, dos pais, das professoras, \n",
      "mas também é o dia dos animais, sempre que você olha uma criança, \n",
      "há sempre uma figura oculta, que é um cachorro atrás. \n",
      "O que é algo muito importante!\n",
      "\n",
      "\n",
      "Ai você fala o seguinte: \"- Mas vocês acabaram isso?\" \n",
      "Vou te falar: -\"Não, está em andamento!\" Tem obras que \"vai\" durar \n",
      "pra depois de 2010. Agora, por isso, nós já não desenhamos, não começamos a \n",
      "fazer projeto do que nós \"podêmo fazê\"? 11, 12, 13, 14... Por que é que não?\n",
      "\n",
      "\n"
     ]
    }
   ],
   "source": [
    "# Comentarios\n",
    "\n",
    "\n",
    "\n",
    "# inline\n",
    "\n",
    "\"\"\"\n",
    "    Bloco\n",
    "\"\"\"\n",
    "# ----------------------------------\n",
    "\n",
    "'''Bloco inline'''\n",
    "\n",
    "\n",
    "# tipos\n",
    "\n",
    "# uma string com escapamento\n",
    "name = \"Buiuia (that\\\"s me)\"\n",
    "print(name)\n",
    "print()\n",
    "\n",
    "home = 'Boulevard Tower'\n",
    "print(home)\n",
    "print()\n",
    "\n",
    "# string de multiplas linhas\n",
    "description = '''Se hoje é o dia das crianças... Ontem eu disse: \n",
    "o dia da criança é o dia da mãe, dos pais, das professoras, \n",
    "mas também é o dia dos animais, sempre que você olha uma criança, \n",
    "há sempre uma figura oculta, que é um cachorro atrás. \n",
    "O que é algo muito importante!\n",
    "'''\n",
    "print(description)\n",
    "print()\n",
    "\n",
    "# outra forma de string multipla\n",
    "\n",
    "description = \"\"\"Ai você fala o seguinte: \"- Mas vocês acabaram isso?\" \n",
    "Vou te falar: -\"Não, está em andamento!\" Tem obras que \"vai\" durar \n",
    "pra depois de 2010. Agora, por isso, nós já não desenhamos, não começamos a \n",
    "fazer projeto do que nós \"podêmo fazê\"? 11, 12, 13, 14... Por que é que não?\n",
    "\"\"\"\n",
    "print(description)\n",
    "print()"
   ]
  },
  {
   "cell_type": "code",
   "execution_count": 4,
   "metadata": {},
   "outputs": [
    {
     "name": "stdout",
     "output_type": "stream",
     "text": [
      "2010 2010\n",
      "3.14159265 3.14159265\n",
      "0.02\n"
     ]
    }
   ],
   "source": [
    "# números\n",
    "\n",
    "year1 = 2010\n",
    "year2 = int(\"2010\")\n",
    "\n",
    "print(year1, year2)\n",
    "\n",
    "\n",
    "# Floating Point Numbers\n",
    "pi1 = 3.14159265\n",
    "pi2 = float(\"3.14159265\")\n",
    "\n",
    "print(pi1, pi2)\n",
    "\n",
    "\n",
    "# Fixed Point Numbers\n",
    "\n",
    "from decimal import Decimal\n",
    "price = Decimal(\"0.02\")\n",
    "\n",
    "print(price)\n"
   ]
  },
  {
   "cell_type": "code",
   "execution_count": 6,
   "metadata": {},
   "outputs": [
    {
     "name": "stdout",
     "output_type": "stream",
     "text": [
      "None\n"
     ]
    }
   ],
   "source": [
    "# Null\n",
    "\n",
    "optional_data = None\n",
    "\n",
    "print(optional_data)"
   ]
  },
  {
   "cell_type": "code",
   "execution_count": 18,
   "metadata": {},
   "outputs": [
    {
     "name": "stdout",
     "output_type": "stream",
     "text": [
      "[42]\n",
      "[42, 'Python', True]\n",
      "[42, 'Python', True]\n",
      "5\n",
      "1\n",
      "[1, 2]\n",
      "[3, 4, 5]\n"
     ]
    }
   ],
   "source": [
    "# listas podem ser heterogêneas\n",
    "favorites = []\n",
    "\n",
    "# addições\n",
    "favorites.append(42)\n",
    "print(favorites)\n",
    "\n",
    "# extensão\n",
    "favorites.extend([\"Python\", True])\n",
    "print(favorites)\n",
    "\n",
    "# equivalente\n",
    "\n",
    "favorites = [42, \"Python\", True]\n",
    "print(favorites)\n",
    "\n",
    "# ---------------------------------------\n",
    "# slicers\n",
    "\n",
    "numbers = [1, 2, 3, 4, 5]\n",
    "\n",
    "print(len(numbers))\n",
    "\n",
    "print(numbers[0])\n",
    "\n",
    "print(numbers[0: 2])\n",
    "\n",
    "print(numbers[2:])\n"
   ]
  },
  {
   "cell_type": "code",
   "execution_count": 31,
   "metadata": {},
   "outputs": [
    {
     "name": "stdout",
     "output_type": "stream",
     "text": [
      "{'name': 'Buiuia'}\n",
      "{'favorites': [42, 'games'], 'name': 'Buiuia', 'gender': 'Male'}\n",
      "{42: 'favorite number', 'favorites': [42, 'games'], 'name': 'Buiuia', (44.47, -73.21): 'coordinates', 'gender': 'Male'}\n",
      "Buiuia\n",
      "None\n",
      "+\n",
      "Buiuia\n",
      "dict_keys([42, 'favorites', 'name', (44.47, -73.21), 'gender'])\n",
      "dict_values(['favorite number', [42, 'games'], 'Buiuia', 'coordinates', 'Male'])\n",
      "dict_items([(42, 'favorite number'), ('favorites', [42, 'games']), ('name', 'Buiuia'), ((44.47, -73.21), 'coordinates'), ('gender', 'Male')])\n"
     ]
    }
   ],
   "source": [
    "# Dicionários\n",
    "\n",
    "person = {}\n",
    "\n",
    "# Set by key / Get by key\n",
    "person['name'] = 'Buiuia'\n",
    "print(person)\n",
    "\n",
    "# update\n",
    "person.update({\n",
    "    'favorites': [42, 'games'],\n",
    "    'gender': 'Male'\n",
    "})\n",
    "print(person)\n",
    "\n",
    "# Qualquer objeto imutável pode ser a chave de um dicionário\n",
    "person[42] = 'favorite number'\n",
    "person[(44.47, -73.21)] = 'coordinates'\n",
    "print(person)\n",
    "\n",
    "\n",
    "\n",
    "# Metodos built in\n",
    "print(person.get('name'))\n",
    "print(person.get('last_name'))\n",
    "print(person.get('last_name', '+'))\n",
    "\n",
    "print(person['name'])\n",
    "\n",
    "\n",
    "print(person.keys())\n",
    "\n",
    "print(person.values())\n",
    "\n",
    "print(person.items())\n"
   ]
  },
  {
   "cell_type": "code",
   "execution_count": 1,
   "metadata": {},
   "outputs": [
    {
     "name": "stdout",
     "output_type": "stream",
     "text": [
      "True\n",
      "True\n",
      "True\n",
      "False\n"
     ]
    }
   ],
   "source": [
    "# Boolean\n",
    "\n",
    "is_python = True\n",
    "print(is_python)\n",
    "\n",
    "# Tudo no python pode ser convertido em um booleano\n",
    "is_python = bool(\"any object\")\n",
    "print(is_python)\n",
    "\n",
    "# Tudo abaixo é equivalente a True\n",
    "\n",
    "these_are_true = bool(True and 1 and \"Text\" and {'a': 'b'} and ['c', 'd'])\n",
    "print(these_are_true)\n",
    "\n",
    "# Tudo abaixo é equivalente a False\n",
    "these_are_false = bool(False or 0 or \"\" or {} or [] or None)\n",
    "print(these_are_false)\n",
    "\n"
   ]
  },
  {
   "cell_type": "code",
   "execution_count": 3,
   "metadata": {},
   "outputs": [],
   "source": [
    "# Aritmetica\n",
    "\n",
    "a = 10            # 10\n",
    "a += 1            # 11\n",
    "a -= 1            # 10\n",
    " \n",
    "b = a + 1         # 11\n",
    "c = a - 1         # 9\n",
    "\n",
    "d = a * 2         # 20\n",
    "e = a / 2         # 5\n",
    "f = a % 3         # 1\n",
    "g = a ** 2        # 100\n",
    "\n"
   ]
  },
  {
   "cell_type": "code",
   "execution_count": 10,
   "metadata": {},
   "outputs": [
    {
     "name": "stdout",
     "output_type": "stream",
     "text": [
      "Cats Dogs Rabbits\n",
      "apple, Banana, Orange\n",
      "Sept 11 2010\n",
      "Joe Due\n"
     ]
    }
   ],
   "source": [
    "# Manipulação de Strings\n",
    "\n",
    "animals = \"Cats \" + \"Dogs \"\n",
    "animals += 'Rabbits'\n",
    "\n",
    "print(animals)\n",
    "\n",
    "fruit = ', '.join(['apple', 'Banana', 'Orange'])\n",
    "print(fruit)\n",
    "\n",
    "date = '{} {} {}'.format('Sept', 11, 2010)\n",
    "print(date)\n",
    "\n",
    "name = '{first} {last}'.format(first='Joe', last='Due')\n",
    "print(name)\n"
   ]
  },
  {
   "cell_type": "code",
   "execution_count": 15,
   "metadata": {},
   "outputs": [
    {
     "name": "stdout",
     "output_type": "stream",
     "text": [
      "False\n",
      "True\n",
      "False\n",
      "True\n"
     ]
    }
   ],
   "source": [
    "# Comparação lógica\n",
    "a = True\n",
    "b = False\n",
    "c = None\n",
    "\n",
    "print(a and b)\n",
    "print(a or b)\n",
    "print(not a)\n",
    "print(a and not (b or c))\n"
   ]
  },
  {
   "cell_type": "code",
   "execution_count": 28,
   "metadata": {},
   "outputs": [
    {
     "name": "stdout",
     "output_type": "stream",
     "text": [
      "True\n",
      "True\n",
      "True\n",
      "True\n",
      "True\n",
      "True\n"
     ]
    }
   ],
   "source": [
    "# Comparações\n",
    "\n",
    "print((1 is 1) == True)\n",
    "print((1 is not '1') == True)\n",
    "\n",
    "print((bool(1)) == True)\n",
    "print((bool(True)) == True)\n",
    "\n",
    "print((1 and True) == True)\n",
    "print((1 is True) == False)\n"
   ]
  },
  {
   "cell_type": "code",
   "execution_count": 31,
   "metadata": {},
   "outputs": [
    {
     "name": "stdout",
     "output_type": "stream",
     "text": [
      "False\n",
      "False\n",
      "True\n",
      "True\n",
      "False\n",
      "True\n"
     ]
    }
   ],
   "source": [
    "# Comparação Aritmetica\n",
    "a = 10\n",
    "b = 11\n",
    "\n",
    "print(a > b)\n",
    "print(a >= b)\n",
    "print(a < b)\n",
    "print(a <= b)\n",
    "print(a == b)\n",
    "print(a != b)\n"
   ]
  },
  {
   "cell_type": "code",
   "execution_count": 33,
   "metadata": {},
   "outputs": [
    {
     "name": "stdout",
     "output_type": "stream",
     "text": [
      "B\n"
     ]
    }
   ],
   "source": [
    "# Condições\n",
    "\n",
    "grade = 82\n",
    "\n",
    "if grade >= 90:\n",
    "    if grade == 100:\n",
    "        print('A+')\n",
    "    else:\n",
    "        print('A')\n",
    "elif grade >= 80:\n",
    "    print(\"B\")\n",
    "elif grade >= 70:\n",
    "    print(\"C\")\n",
    "else:\n",
    "    print(\"F\")"
   ]
  },
  {
   "cell_type": "code",
   "execution_count": 36,
   "metadata": {},
   "outputs": [
    {
     "name": "stdout",
     "output_type": "stream",
     "text": [
      "0\n",
      "1\n",
      "2\n",
      "3\n",
      "4\n",
      "5\n",
      "6\n",
      "7\n",
      "8\n",
      "9\n",
      "Apple\n",
      "Orange\n"
     ]
    }
   ],
   "source": [
    "# For Loop\n",
    "\n",
    "for x in range(10): # 0-9\n",
    "    print(x)\n",
    "\n",
    "fruits = ['Apple', 'Orange']\n",
    "for fruit in fruits:\n",
    "    print(fruit)\n",
    "    "
   ]
  },
  {
   "cell_type": "code",
   "execution_count": 44,
   "metadata": {},
   "outputs": [
    {
     "name": "stdout",
     "output_type": "stream",
     "text": [
      "BA: Bahia\n",
      "MG: Minas Gerais\n"
     ]
    }
   ],
   "source": [
    "# For loop expandido\n",
    "states = {\n",
    "    'MG': 'Minas Gerais',\n",
    "    'BA': 'Bahia'\n",
    "}\n",
    "\n",
    "for key, value in states.items():\n",
    "    print('{}: {}'.format(key, value))"
   ]
  },
  {
   "cell_type": "code",
   "execution_count": 47,
   "metadata": {},
   "outputs": [
    {
     "name": "stdout",
     "output_type": "stream",
     "text": [
      "0\n",
      "1\n",
      "2\n",
      "3\n",
      "4\n",
      "5\n",
      "6\n",
      "7\n",
      "8\n",
      "9\n"
     ]
    }
   ],
   "source": [
    "# while loop\n",
    "\n",
    "x = 0\n",
    "while x < 10:\n",
    "    print(x)\n",
    "    x += 1"
   ]
  },
  {
   "cell_type": "code",
   "execution_count": 49,
   "metadata": {},
   "outputs": [
    {
     "name": "stdout",
     "output_type": "stream",
     "text": [
      "[1, 3, 5, 7, 9, 11, 13, 15, 17, 19, 21, 23, 25, 27, 29, 31, 33, 35, 37, 39, 41, 43, 45, 47, 49]\n",
      "[1, 3, 5, 7, 9, 11, 13, 15, 17, 19, 21, 23, 25, 27, 29, 31, 33, 35, 37, 39, 41, 43, 45, 47, 49]\n"
     ]
    }
   ],
   "source": [
    "# List Comprehensions\n",
    "odds = []\n",
    "for x in range(50):\n",
    "    if x % 2:\n",
    "        odds.append(x)\n",
    "print(odds)\n",
    "\n",
    "odds = [ x for x in range(50) if x % 2]\n",
    "print(odds)"
   ]
  },
  {
   "cell_type": "code",
   "execution_count": 56,
   "metadata": {},
   "outputs": [
    {
     "name": "stdout",
     "output_type": "stream",
     "text": [
      "Hello World\n",
      "Help on function my_function in module __main__:\n",
      "\n",
      "my_function()\n",
      "    Function Documentation\n",
      "\n"
     ]
    }
   ],
   "source": [
    "# Funções básicas\n",
    "\n",
    "def my_function():\n",
    "    \"\"\"Function Documentation\"\"\"\n",
    "    print('Hello World')\n",
    "    \n",
    "my_function()\n",
    "\n",
    "help(my_function)"
   ]
  },
  {
   "cell_type": "code",
   "execution_count": 65,
   "metadata": {},
   "outputs": [],
   "source": [
    "# Argumentos de função\n",
    "\n",
    "# Positional\n",
    "def add(x, y):\n",
    "    return x + y\n",
    "\n",
    "# Keyword\n",
    "def shout(phrase='Yipee!!'):\n",
    "    print(phrase)\n",
    "\n",
    "# Positional + Keyword\n",
    "def echo(text, prefix=''):\n",
    "    print('{} {}'.format(prefix, text))\n"
   ]
  },
  {
   "cell_type": "code",
   "execution_count": 67,
   "metadata": {},
   "outputs": [
    {
     "name": "stdout",
     "output_type": "stream",
     "text": [
      "4\n",
      "Yipee!!\n",
      " World\n",
      "World hello\n"
     ]
    }
   ],
   "source": [
    "print(add(2, 2))\n",
    "shout()\n",
    "echo('World')\n",
    "echo('hello', 'World')"
   ]
  },
  {
   "cell_type": "code",
   "execution_count": 73,
   "metadata": {},
   "outputs": [
    {
     "name": "stdout",
     "output_type": "stream",
     "text": [
      "1\n",
      "2\n",
      "3\n",
      "name: Joe Due\n"
     ]
    }
   ],
   "source": [
    "# Argumentos arbitrários\n",
    "\n",
    "def some_method(*args, **kwargs):\n",
    "    for arg in args:\n",
    "        print(arg)\n",
    "    for key, value in kwargs.items():\n",
    "        print('{}: {}'.format(key, value))\n",
    "\n",
    "some_method(1, 2, 3, name='Joe Due')\n",
    "        "
   ]
  },
  {
   "cell_type": "code",
   "execution_count": 88,
   "metadata": {},
   "outputs": [
    {
     "name": "stdout",
     "output_type": "stream",
     "text": [
      "<class '__main__.User'>\n",
      "<__main__.User object at 0x7f1fa9ee0c18>\n"
     ]
    }
   ],
   "source": [
    "# Classes\n",
    "\n",
    "class User:\n",
    "    pass\n",
    "\n",
    "print(User)\n",
    "print(User())"
   ]
  },
  {
   "cell_type": "code",
   "execution_count": 94,
   "metadata": {},
   "outputs": [
    {
     "name": "stdout",
     "output_type": "stream",
     "text": [
      "None\n",
      "Joe Due\n"
     ]
    }
   ],
   "source": [
    "# Atributos de classes\n",
    "\n",
    "# Espera-se que os atributos de uma classe seja sempre imutáveis\n",
    "\n",
    "class User:\n",
    "    name = None\n",
    "    is_staff = False\n",
    "    \n",
    "print(User.name)\n",
    "\n",
    "User.name = 'Joe Due'\n",
    "\n",
    "print(User.name)"
   ]
  },
  {
   "cell_type": "code",
   "execution_count": 101,
   "metadata": {},
   "outputs": [
    {
     "name": "stdout",
     "output_type": "stream",
     "text": [
      "Anonymous\n",
      "False\n"
     ]
    }
   ],
   "source": [
    "# Métodos da classe\n",
    "\n",
    "class User:\n",
    "    is_staff = False\n",
    "    \n",
    "    def __init__(self, name='Anonymous'):\n",
    "        self.name = name\n",
    "    \n",
    "    def is_authorized(self):\n",
    "        return self.is_staff\n",
    "    \n",
    "anonymous = User()\n",
    "print(anonymous.name)\n",
    "print(anonymous.is_authorized())"
   ]
  },
  {
   "cell_type": "code",
   "execution_count": 103,
   "metadata": {},
   "outputs": [
    {
     "name": "stdout",
     "output_type": "stream",
     "text": [
      "Joe Due\n",
      "True\n"
     ]
    }
   ],
   "source": [
    "# Herença\n",
    "\n",
    "class SuperUser(User):\n",
    "    is_staff = True\n",
    "\n",
    "    \n",
    "joe = SuperUser('Joe Due')\n",
    "print(joe.name)\n",
    "print(joe.is_authorized())"
   ]
  },
  {
   "cell_type": "code",
   "execution_count": 124,
   "metadata": {},
   "outputs": [
    {
     "data": {
      "text/html": [
       "<h1>Python Way</h1><ul><li style=\"font-size: 20px\">No interfaces</li><li style=\"font-size: 20px\">No real private attributes/functions</li><li style=\"font-size: 20px\">Private attributes start (but do not end) with double underscores.</li><li style=\"font-size: 20px\">Special class methods start and end with double underscores.</li><li style=\"font-size: 20px\">__init__, __doc__, __str__</li></ul>"
      ],
      "text/plain": [
       "<IPython.core.display.HTML object>"
      ]
     },
     "metadata": {},
     "output_type": "display_data"
    }
   ],
   "source": [
    "# Python Way\n",
    "from IPython.core.display import display, HTML\n",
    "rules = ['No interfaces', 'No real private attributes/functions', 'Private attributes start (but do not end) with double underscores.', 'Special class methods start and end with double underscores.', '__init__, __doc__, __str__']\n",
    "li_rules= ''.join(['<li style=\"font-size: 20px\">{}</li>'.format(r) for r in rules])\n",
    "display(HTML('<h1>Python Way</h1><ul>{}</ul>'.format(li_rules)))\n"
   ]
  },
  {
   "cell_type": "code",
   "execution_count": null,
   "metadata": {},
   "outputs": [],
   "source": []
  }
 ],
 "metadata": {
  "kernelspec": {
   "display_name": "Python 3",
   "language": "python",
   "name": "python3"
  },
  "language_info": {
   "codemirror_mode": {
    "name": "ipython",
    "version": 3
   },
   "file_extension": ".py",
   "mimetype": "text/x-python",
   "name": "python",
   "nbconvert_exporter": "python",
   "pygments_lexer": "ipython3",
   "version": "3.5.2"
  }
 },
 "nbformat": 4,
 "nbformat_minor": 2
}
